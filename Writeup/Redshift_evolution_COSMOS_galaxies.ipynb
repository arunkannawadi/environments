{
 "metadata": {
  "name": "Redshift_evolution_COSMOS_galaxies"
 },
 "nbformat": 3,
 "nbformat_minor": 0,
 "worksheets": [
  {
   "cells": [
    {
     "cell_type": "code",
     "collapsed": false,
     "input": [],
     "language": "python",
     "metadata": {},
     "outputs": []
    },
    {
     "cell_type": "markdown",
     "metadata": {},
     "source": [
      "This is the central plot for all the analysis that follows. The plot below shows the overdensities in different redshift bins. The overdensities are computed by fitting a ChiSquare and a Gamma curve to the redshift distribution of a volume-limited sample separately and $\\delta := N/N_{mod}$.\n",
      "\n",
      "<center> <a href=\"files/plots_20140120/overdensities.png\" target=\"_tab\"> <img src=\"files/plots_20140120/overdensities.png\" width=\"400\" height=\"300\"> </a> </center>"
     ]
    },
    {
     "cell_type": "markdown",
     "metadata": {},
     "source": [
      "Plot (a) shows the number of galaxies in each bin along with a scaled version of comoving volume. Plot (b) shows the comoving number density. Points with z > 0.85 are not very reliable.\n",
      "\n",
      "<center>\n",
      "    <a href=\"files/plots_20140212/galaxy_numbers.png\" target=\"_tab\"> <img src=\"files/plots_20140212/galaxy_numbers.png\" width=400 height=300> </a>\n",
      "    <a href=\"files/plots_20140212/comoving_densities(2).png\" target=\"_tab\"> <img src=\"files/plots_20140212/comoving_densities(2).png\" width=400 height=300> </a>\n",
      "</center>\n",
      "\n",
      "Note that the plot of comoving densities is very similar to the plot of overdensities. This is because the fits were very much like the comoving-volume in shape ( This is loose talk. Add more plots to support this. )\n"
     ]
    },
    {
     "cell_type": "markdown",
     "metadata": {},
     "source": [
      "<a href = im"
     ]
    },
    {
     "cell_type": "markdown",
     "metadata": {},
     "source": [
      "In ...\n",
      "\n",
      "<table><tr><th>0.3-0.4 (OD) <br>$N_{gal}$=1726</th><th>0.4-0.55 (~) <br>$N_{gal}$=2398</th><th>0.55-0.65 (UD)<br>$N_{gal}$=1797</th><th>0.65-0.7 (OD) <br>$N_{gal}$=2089</th><th>0.7-0.75 (OD) <br>$N_{gal}$=1970</th><th>0.75-0.8 (UD) <br>$N_{gal}$=1159</th><th>0.8-0.85 (OD) <br>$N_{gal}$=2428</th></tr>"
     ]
    },
    {
     "cell_type": "markdown",
     "metadata": {},
     "source": [
      "In the following tables - positive offset corresponds to moving the low-z MIs to the right and negative offset corresponds to moving the high-z MIs to the left.\n",
      "\n",
      "\n",
      "<table><tr><th>0.3-0.4 (OD) <br>$N_{gal}$=1726</th><th>0.4-0.55 (~) <br>$N_{gal}$=2398</th><th>0.55-0.65 (UD)<br>$N_{gal}$=1797</th><th>0.65-0.7 (OD) <br>$N_{gal}$=2089</th><th>0.7-0.75 (OD) <br>$N_{gal}$=1970</th><th>0.75-0.8 (UD) <br>$N_{gal}$=1159</th><th>0.8-0.85 (OD) <br>$N_{gal}$=2428</th></tr>\n",
      "\n",
      "    <tr> \n",
      "        <td> </td>\n",
      "        <td> <a href=\"files/plots_20140203/mi_offset_0.3-0.4_0.4-0.55.png\" target=\"_tab\"> <img src=\"files/plots_20140203/mi_offset_0.3-0.4_0.4-0.55.png\" width=\"150\" height=\"150\"> </a> \n",
      "        </td> \n",
      "        <td> <a href=\"files/plots_20140203/mi_offset_0.3-0.4_0.55-0.65.png\" target=\"_tab\"> <img src=\"files/plots_20140203/mi_offset_0.3-0.4_0.55-0.65.png\" width=\"150\" height=\"150\"> </a>\n",
      "        </td>\n",
      "        <td> <a href=\"files/plots_20140203/mi_offset_0.3-0.4_0.65-0.7.png\" target=\"_tab\"> <img src=\"files/plots_20140203/mi_offset_0.3-0.4_0.65-0.7.png\" width=\"150\" height=\"150\"> </a>\n",
      "        </td>\n",
      "        <td> <a href=\"files/plots_20140203/mi_offset_0.3-0.4_0.7-0.75.png\" target=\"_tab\"> <img src=\"files/plots_20140203/mi_offset_0.3-0.4_0.7-0.75.png\" width=\"150\" height=\"150\"> </a>\n",
      "        </td>\n",
      "        <td> <a href=\"files/plots_20140203/mi_offset_0.3-0.4_0.75-0.8.png\" target=\"_tab\"> <img src=\"files/plots_20140203/mi_offset_0.3-0.4_0.75-0.8.png\" width=\"150\" height=\"150\"> </a>\n",
      "        </td>\n",
      "        <td> <a href=\"files/plots_20140203/mi_offset_0.3-0.4_0.8-0.85.png\" target=\"_tab\"> <img src=\"files/plots_20140203/mi_offset_0.3-0.4_0.8-0.85.png\" width=\"150\" height=\"150\"> </a>\n",
      "        </td>\n",
      "    </tr>\n",
      "    \n",
      "    <tr>\n",
      "        <td> </td> <td> </td>\n",
      "        <td> <a href=\"files/plots_20140203/mi_offset_0.4-0.55_0.55-0.65.png\" target=\"_tab\"> <img src=\"files/plots_20140203/mi_offset_0.4-0.55_0.55-0.65.png\" width=\"150\" height=\"150\"> </a>\n",
      "        </td>\n",
      "        <td> <a href=\"files/plots_20140203/mi_offset_0.4-0.55_0.65-0.7.png\" target=\"_tab\"> <img src=\"files/plots_20140203/mi_offset_0.4-0.55_0.65-0.7.png\" width=\"150\" height=\"150\"> </a>\n",
      "        </td>\n",
      "        <td> <a href=\"files/plots_20140203/mi_offset_0.4-0.55_0.7-0.75.png\" target=\"_tab\"> <img src=\"files/plots_20140203/mi_offset_0.4-0.55_0.7-0.75.png\" width=\"150\" height=\"150\"> </a>\n",
      "        </td>\n",
      "        <td> <a href=\"files/plots_20140203/mi_offset_0.4-0.55_0.75-0.8.png\" target=\"_tab\"> <img src=\"files/plots_20140203/mi_offset_0.4-0.55_0.75-0.8.png\" width=\"150\" height=\"150\"> </a>\n",
      "        </td>\n",
      "        <td> <a href=\"files/plots_20140203/mi_offset_0.4-0.55_0.8-0.85.png\" target=\"_tab\"> <img src=\"files/plots_20140203/mi_offset_0.4-0.55_0.8-0.85.png\" width=\"150\" height=\"150\"> </a>\n",
      "        </td>\n",
      "    </tr>\n",
      "    \n",
      "    <tr>\n",
      "        <td> </td> <td> </td> <td> </td>\n",
      "        <td> <a href=\"files/plots_20140203/mi_offset_0.55-0.65_0.65-0.7.png\" target=\"_tab\"> <img src=\"files/plots_20140203/mi_offset_0.55-0.65_0.65-0.7.png\" width=\"150\" height=\"150\"> </a>\n",
      "        </td>\n",
      "        <td> <a href=\"files/plots_20140203/mi_offset_0.55-0.65_0.7-0.75.png\" target=\"_tab\"> <img src=\"files/plots_20140203/mi_offset_0.55-0.65_0.7-0.75.png\" width=\"150\" height=\"150\"> </a>\n",
      "        </td>\n",
      "        <td> <a href=\"files/plots_20140203/mi_offset_0.55-0.65_0.75-0.8.png\" target=\"_tab\"> <img src=\"files/plots_20140203/mi_offset_0.55-0.65_0.75-0.8.png\" width=\"150\" height=\"150\"> </a>\n",
      "        </td>\n",
      "        <td> <a href=\"files/plots_20140203/mi_offset_0.55-0.65_0.8-0.85.png\" target=\"_tab\"> <img src=\"files/plots_20140203/mi_offset_0.55-0.65_0.8-0.85.png\" width=\"150\" height=\"150\"> </a>\n",
      "        </td>\n",
      "    </tr>\n",
      "    \n",
      "    <tr>\n",
      "        <td> </td> <td> </td> <td> </td> <td> </td>\n",
      "        <td> <a href=\"files/plots_20140203/mi_offset_0.65-0.7_0.7-0.75.png\" target=\"_tab\"> <img src=\"files/plots_20140203/mi_offset_0.65-0.7_0.7-0.75.png\" width=\"150\" height=\"150\"> </a>\n",
      "        </td>\n",
      "        <td> <a href=\"files/plots_20140203/mi_offset_0.65-0.75_0.75-0.8.png\" target=\"_tab\"> <img src=\"files/plots_20140203/mi_offset_0.65-0.75_0.75-0.8.png\" width=\"150\" height=\"150\"> </a>\n",
      "        </td>\n",
      "        <td> <a href=\"files/plots_20140203/mi_offset_0.65-0.75_0.8-0.85.png\" target=\"_tab\"> <img src=\"files/plots_20140203/mi_offset_0.65-0.75_0.8-0.85.png\" width=\"150\" height=\"150\"> </a>\n",
      "        </td>\n",
      "    </tr>\n",
      "    \n",
      "    <tr> <td> </td> \n",
      "    </tr>\n",
      "    \n",
      "    <tr>\n",
      "        <td> </td> <td> </td> <td> </td> <td> </td><td> </td> <td> </td>\n",
      "        <td> <a href=\"files/plots_20140203/mi_offset_0.75-0.8_0.8-0.85.png\" target=\"_tab\"> <img src=\"files/plots_20140203/mi_offset_0.75-0.8_0.8-0.85.png\" width=\"150\" height=\"150\"> </a>\n",
      "        </td>\n",
      "    </tr>\n",
      "</table>"
     ]
    },
    {
     "cell_type": "markdown",
     "metadata": {},
     "source": [
      "<center> \n",
      "    <a href = \"files/plots_201312a/offset_deltaz.png\" target=\"_tab\"> <img src = \"files/plots_201312a/offset_deltaz.png\" width=600 height=400> </a>\n",
      "    <t> <t> <t> <t> <t>\n",
      "    <a href = \"files/plots_201312a/offset_deltaz_AD.png\" target=\"_tab\"> <img src = \"files/plots_201312a/offset_deltaz_AD.png\" width=600 height=400> </a>\n",
      "</center>"
     ]
    },
    {
     "cell_type": "code",
     "collapsed": false,
     "input": [],
     "language": "python",
     "metadata": {},
     "outputs": [
      {
       "output_type": "stream",
       "stream": "stdout",
       "text": [
        "<table><th>0.3-0.4<br>$N_{gal}$=1726</th><th>0.4-0.55<br>$N_{gal}$=2398</th><th>0.55-0.65<br>$N_{gal}$=1797</th><th>0.65-0.7<br>$N_{gal}$=2089</th><th>0.7-0.75<br>$N_{gal}$=1970</th><th>0.75-0.8<br>$N_{gal}$=1159</th><th>0.8-0.85<br>$N_{gal}$=2428</th></tr></table>\n"
       ]
      }
     ],
     "prompt_number": 48
    },
    {
     "cell_type": "markdown",
     "metadata": {},
     "source": [
      "<table><th>0.3-0.4<br>$N_{gal}$=1726</th><th>0.4-0.55<br>$N_{gal}$=2398</th><th>0.55-0.65<br>$N_{gal}$=1797</th><th>0.65-0.7<br>$N_{gal}$=2089</th><th>0.7-0.75<br>$N_{gal}$=1970</th><th>0.75-0.8<br>$N_{gal}$=1159</th><th>0.8-0.85<br>$N_{gal}$=2428</th></table>"
     ]
    },
    {
     "cell_type": "code",
     "collapsed": false,
     "input": [],
     "language": "python",
     "metadata": {},
     "outputs": []
    }
   ],
   "metadata": {}
  }
 ]
}