{
 "metadata": {
  "name": ""
 },
 "nbformat": 3,
 "nbformat_minor": 0,
 "worksheets": [
  {
   "cells": [
    {
     "cell_type": "markdown",
     "metadata": {},
     "source": [
      "<h1> Schechter Luminosity Function </h1>\n",
      "\n",
      "<h2> Introduction </h2>\n",
      "The Schechter Luminosity Function form is given by $\\phi(L) = \\frac{\\phi_L^*}{L_*} \\left( \\frac{L}{L_*}\\right)^\\alpha e^{-L/L_*}$ where the role of $\\phi_L^*$ is just that of a normalization constant. For $\\alpha < 0 $, the PDF shoots up to infinity at $L = 0$. If $\\alpha > -1$, then the distribution is normalizable such that $\\int_0^\\infty \\phi (L) dL = 1 = \\phi_L^* \\Gamma(\\alpha+1)$. For $\\alpha < -1$, a lower limit for the integral $L_\\min$ <i>must</i> be imposed to prevent it from blowing up. Moreover, in the limit of the lower limit approaching 0, the incomplete gamma function doesn't tend to the analytically continued gamma function for $\\alpha<-1$.\n",
      "\n",
      "But luminosity is commonly expressed in terms of absolute magnitude $M$ and is related to the luminosity $L$ through the relation $L = 10^{-0.4 M}$ or $M = -2.5 \\log_{10} L$. Therefore, $x = L/L_* = 10^{-0.4(M-M_*)}$.\n",
      "\n",
      "The distribution function in terms of the magnitude $M$ is given by $ \\phi(M) = \\phi(L)\\left| \\frac{dL}{dM} \\right| $ expressed in terms of $M$. So\n",
      "$\\phi(M) = 0.4 \\log(10) \\phi_L^* 10^{-0.4(M-M_*)(\\alpha+1)} \\exp{(10^{-0.4(M-M_*)})}$ and $\\int_{-\\infty}^{M_\\max} \\phi(M) dM = 1$ .  \n",
      "\n",
      "<p>\n",
      "\n",
      "<h3> Some useful relations </h3>\n",
      "<ol>\n",
      "    <li> The peak of $\\phi(M)$ occurs at $M_{\\mbox{peak}} = M_* - 2.5 \\log_{10} (\\alpha+1)$ when $\\alpha > -1$ where as the peak in $\\phi(L)$ occurs at $L_{\\mbox{peak}} = \\alpha L_*$ for $\\alpha>0$.\n",
      "    <li> When $\\phi(M)$ is plotted in log scale against $M$, the faint end ( high $M$ ) will be a straight line segment with slope $ -0.4(\\alpha+1) $.\n",
      "    <li> For generic values of $\\alpha$, the mean luminosity $\\overline{L}$ exists given a non-zero $L_\\min$ and is equal to $L_* \\Gamma(\\alpha+2,L_\\min/L_*)/\\Gamma(\\alpha+1,L_\\min/L_*)$. If $\\alpha > -1$, then we can let $L_\\min \\rightarrow 0$ and $\\overline{L} = (\\alpha+1)L_*$. \n",
      "    <li> Interestingly, $\\overline{\\log L}$ is simply the sum of $\\log L_*$ and the partial derivative w.r.t. $\\alpha$ of $\\log \\Gamma(\\alpha+1,L_\\min/L_*)$. \n",
      "    If $L_\\min$ can be set to 0, then it becomes $\\psi_0(\\alpha+1)$ where $\\psi_0$ is the Digamma function. In more general case, the derivative w.r.t to the first argument is $\\left(\\log(L_\\min/L_*) \\Gamma(\\alpha+1,L_\\min/L_*) + (L_\\min/L_*)T(3,\\alpha+1,L_\\min/L_*)\\right) / \\Gamma(\\alpha+1,L_\\min/L_*)$ where T(.,.,.) is a special case of Meiger-G function.\n",
      "</ol>    \n",
      "\n",
      "Here's how a real data looks like:\n",
      "\n",
      "In the $i$-band of COSMOS, by fitting a straight line to the faint end by eye (using the first two relations), we find that $\\alpha \\sim -0.25 $.\n",
      "\n",
      "<center> <a href=\"files/plots_20140507/hist_mi_fitbyeye.png\"> <img src=\"files/plots_20140507/hist_mi_fitbyeye.png\" width=500 height=500> </a> </center>\n"
     ]
    },
    {
     "cell_type": "markdown",
     "metadata": {},
     "source": [
      "<h2> Maximum Likelihood Estimate of parameters </h2>\n",
      "\n",
      "Given a (flux limited) sample data from presumably a Schechter distribution, we can find out the parameters $\\alpha$ and $L_*$ or equivalently $M_*$ using Maximum Likelihood Estimate methods.\n",
      "\n",
      "The probability distribution for the $i^{th}$ galaxy luminosity $L_i$ at a distance $d_i$ is\n",
      "$p_i = \\frac{\\phi(L_i)}{\\int_{L_\\min(d_i)}^\\infty \\phi(L) dL} $, where $L_\\min(d_i)$ is the luminosity that can be seen at $d_i$ given the flux limit. Assuming the galaxy are i.i.d samples in a given redshift bin, the likelihood $\\mathcal{L} = \\prod_i p_i$ or the average log-likelihood\n",
      "\n",
      "<center> $ \\begin{equation} \\log \\mathcal{L} /n = \\frac{1}{n} \\sum_i \\log p_i = \\alpha (\\overline{\\log L} - \\log L_*) - \\overline{L}/{L_* - \\log L_* - \\frac{1}{n}\\sum_i \\log\\Gamma\\left( \\alpha + 1, L_\\min (d_i)/L_* \\right) } \\end{equation} $ </center>\n",
      "<br>\n",
      "\n",
      "<br>\n",
      "\n",
      "\n",
      "For a mock sample of 2000 galaxies with $M_* = -21.3$ and $\\alpha = -0.4$ ( constraint due to SciPy, I do not expect the analysis to suffer when $\\alpha < -1 $ ), we plot the average log likelihood over a 2-D grid of parameters.\n",
      "\n",
      "<a href=\"files/plots_20140430/mock_data1.png\"> <img src=\"files/plots_20140430/mock_data1.png\" width=300 height=300> </a>\n",
      "<a href= \"files/plots_20140430/ll_a1.png\"> <img src=\"files/plots_20140430/ll_a1.png\" width=400 height=400> </a>\n",
      "<a href= \"files/plots_20140430/ll_b1.png\"> <img src=\"files/plots_20140430/ll_b1.png\" width=400 height=500> </a>\n",
      "\n",
      "The maximum likelihood estimates for this sample are $\\hat{\\alpha} = -0.384$ and $\\hat{M_*} = -21.352$. The $L_\\min (d)$ has been arbitrarily set as $10^{-0.4 \\times 9.0 }$.\n",
      "<br>\n",
      "<u> Note: </u> The likelihood appears as a much shallower parabola along the $M_*$ axis."
     ]
    },
    {
     "cell_type": "markdown",
     "metadata": {},
     "source": [
      "<ol>\n",
      "<li> <b> Are these point estimates good enough for us </b> </li>\n",
      "For i-band in COSMOS, I expect an evolution of $\\delta M_* \\sim 0.7-0.8 $ per unit redshift. I will be considering redshift bins that are $\\Delta z \\sim 0.1 $. So, an error of about 0.05 in $\\hat{M_*}$ does bother me. \n",
      "\n",
      "Interestingly, performing KS test of the sample against the distribution is clever enough to identify the mismatch in parameters. For the actual parameters, we get a p-value $\\approx 0.474 \\gg 0.05 $ whereas the p-value when the estimated parameters used is 0.0 .\n",
      "<br>\n",
      "\n",
      "<li> <b> Confidence intervals </b> </li>\n",
      "Yet to do\n",
      "<li> <b> Is this estimator consistent? </b> </li>\n",
      "\n",
      "Increasing the samples to $10^6$ doesn't help the estimated parameters converge to the actual ones. In fact, it only gets worse! Strange. THe estimator is probably biased as well.\n",
      "A sample containing $10^6$ fake galaxies for the same parameters returns $\\hat{\\alpha} = -0.364$ and $\\hat{M_*} = -21.358$. \n",
      "\n",
      "<center> <a href=\"files/plots_20140430/mock_data2.png\"> <img src=\"files/plots_20140430/mock_data2.png\" width=500 height=500 > </a> </center> \n",
      "\n",
      "<li><b> Is this estimator biased? </b></li>\n",
      "\n",
      "For 25 realizations of samples of size 10000, the actual paramters and the estimated values are given below:\n",
      "<a href=\"files/plots_20140430/bias_alpha.png\"> <img src=\"files/plots_20140430/bias_alpha.png\" width=500 height=500 > </a>\n",
      "<a href=\"files/plots_20140430/bias_Mstar.png\"> <img src=\"files/plots_20140430/bias_Mstar.png\" width=500 height=500 > </a>\n",
      "\n",
      "<li> <b> Is the arbitrariness in setting $L_\\min$ affecting the estimates? </b> </li>\n",
      "Since this is a mock data, we are not limited to any finite amount of flux. The faintest sample typically has a magnitude $M \\sim +3$. Setting $L_\\min = 0$ or $L_\\min$ as the lowest $L$ in our sample (practically makes no difference) makes the estimate worse, contrary to what we expect.\n",
      "$\\hat{\\alpha} = -0.35$ and $\\hat{M_* } = -21.35$.\n",
      "</ol>"
     ]
    },
    {
     "cell_type": "markdown",
     "metadata": {},
     "source": [
      "Let's formally solve for the MLE solution. MLE solutions are invariant to variable transformations. So we aim to find $L_*$ and $\\alpha$ and related it to $M_*$. Taking partial derivatives with respect to the parameters and setting them to 0 gives the ML estimates.\n",
      "\n",
      "$ \\frac{1}{n}\\frac{\\partial \\log\\mathcal{L}}{\\partial L_*} = \\frac{1}{L_*} \\left(-(\\hat{\\alpha}+1) + \\overline{L}/\\hat{L_*} +1/n \\sum_i \\left(\\frac{L_\\min(d_i)}{\\hat{L_*}}\\right)^{(\\hat{\\alpha}+1)} e^{-L_\\min(d_i)/\\hat{L_*}} /\\Gamma(\\hat{\\alpha}+1,L_\\min(d_i)/\\hat{L_*})  \\right) = 0$\n",
      "\n",
      "$ \\frac{1}{n}\\frac{\\partial \\log\\mathcal{L}}{\\partial \\alpha} = (\\overline{\\log L} - \\log \\hat{L_*})  -1/n\\sum_i \\left(\\log\\left(\\frac{L_\\min(d_i)}{\\hat{L_*}}\\right) \\Gamma(\\hat{\\alpha}+1,L_\\min(d_i)/\\hat{L_*} + (L_\\min(d_i)/\\hat{L_*}) T(3,\\hat{\\alpha}+1,L_\\min(d_i)/\\hat{L_*})\\right)/\\Gamma(\\hat{\\alpha}+1,L_\\min(d_i)/\\hat{L_*}) $\n",
      "\n",
      "To find the possible bias in this estimate, let's do the following:\n",
      "<ul>\n",
      " <li> Replace all $L_\\min(d_i)$ by the same arbitrary luminosity $L_m \\rightarrow 0 $. </li>\n",
      " <li> Replace $\\overline{L}$ and $\\overline{\\log L}$ by their expressions.\n",
      "</ul>\n",
      "\n",
      "Then we get\n",
      "\n",
      "$ -(\\hat{\\alpha}+1)\\Gamma(\\hat{\\alpha}+1,L_m/\\hat{L_*}) + \\frac{L_*}{\\hat{L_*}}\\Gamma(\\alpha+2,L_m/L_*)\\Gamma(\\hat{\\alpha}+1,L_m/\\hat{L_*})/\\Gamma(\\alpha+1,L_m/L_*)  + \\left(\\frac{L_m}{\\hat{L_*}}\\right)^{(\\hat{\\alpha}+1)} e^{-L_m/\\hat{L_*}} = 0 $\n",
      "\n",
      "and with $L_m \\rightarrow 0$\n",
      "\n",
      "$ -(\\hat{\\alpha}+1) + (\\alpha+1)L_*/\\hat{L_*} = 0 $ which is satisfied when $\\hat{\\alpha} = \\alpha$ and $\\hat{L_*} = L_*$. This means, if we estimate the $\\alpha$ correctly, we can estimate the value of $L_*$ as well correctly.\n",
      "\n",
      "The other equation\n",
      "\n",
      "$ \\left(\\log L_* + \\frac{\\partial \\log\\Gamma(\\alpha+1,L_m/L_*)}{\\partial \\alpha} \\Big|_{\\alpha} - \\log \\hat{L_*} \\right) - \\frac{\\partial \\log\\Gamma(\\alpha+1,L_m/\\hat{L_*})}{\\partial \\alpha} \\Big|_{\\hat{\\alpha}} = 0$ is <b> NOT </b> satisfied when $\\hat{\\alpha} = \\alpha$ and $\\hat{L_*} = L_*$! This means, even if we estimate the $L_*$ correctly, we cannot obtain the value of $\\alpha$ correctly."
     ]
    },
    {
     "cell_type": "markdown",
     "metadata": {},
     "source": [
      "<h2> Estimates using maximizing p-values </h2>\n",
      "\n",
      "Interestingly, the estimates obtained using maximizing the p-value obtained from KS test seems much better! <i>(quantify)</i>\n",
      "\n",
      "<a href=\"files/plots_20140430/pval_3.png\"> <img src=\"files/plots_20140430/pval_3.png\" width=500 height=500 > </a>"
     ]
    },
    {
     "cell_type": "code",
     "collapsed": false,
     "input": [],
     "language": "python",
     "metadata": {},
     "outputs": []
    }
   ],
   "metadata": {}
  }
 ]
}