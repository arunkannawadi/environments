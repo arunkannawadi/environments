{
 "metadata": {
  "name": "testing_markdown.md"
 },
 "nbformat": 3,
 "nbformat_minor": 0,
 "worksheets": [
  {
   "cells": [
    {
     "cell_type": "markdown",
     "metadata": {},
     "source": [
      "## Heading 2\n",
      "\n",
      "$e^x$\n",
      "\n",
      "<b>Trial 1:</b>\n",
      "![test_image](file/plots_201312a/hist_mi.png)\n",
      "\n",
      "<i>Trial 2:</i>\n",
      "<img src=\"/media/arunkannawadi/Arun/Acads_CMU/Cosmology/Practice_Data_2012_11_20/plots_201312a/hist_mi.png\">\n",
      "\n",
      "<u> Another one: </u>\n",
      "\n",
      "<img src=\"plots_201312a/hist_mi.png\">"
     ]
    },
    {
     "cell_type": "code",
     "collapsed": false,
     "input": [],
     "language": "python",
     "metadata": {},
     "outputs": []
    }
   ],
   "metadata": {}
  }
 ]
}